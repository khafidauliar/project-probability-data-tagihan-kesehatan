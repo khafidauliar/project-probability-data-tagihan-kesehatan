{
  "nbformat": 4,
  "nbformat_minor": 0,
  "metadata": {
    "colab": {
      "provenance": []
    },
    "kernelspec": {
      "name": "python3",
      "display_name": "Python 3"
    },
    "language_info": {
      "name": "python"
    }
  },
  "cells": [
    {
      "cell_type": "markdown",
      "source": [
        "# **Objektif**\n",
        "\n",
        "**A.  Analisa Descriptive Statistic**\n",
        "1.   Berapa rata rata umur pada data tersebut?\n",
        "2.   Berapa rata rata nilai BMI dari yang merokok?\n",
        "3.   Apakah variansi dari tagihan kesehatan perokok dan non perokok sama?\n",
        "4.   Apakah rata rata umur perempuan dan laki-laki yang merokok sama?\n",
        "5.   Mana yang lebih tinggi, rata rata tagihan kesehatan perokok atau non merokok?\n",
        "6.   Mana yang lebih tinggi, rata rata tagihan kesehatan perokok yang BMI nya diatas 25 atau non perokok yang BMI nya diatas 25 (overweight)\n",
        "7. BMI mana yang lebih tinggi, seseorang perokok atau non perokok?\n",
        "\n",
        "**B.  Analisa Variabel Diskrit**\n",
        "1.   Gender mana yang memiliki tagihan paling tinggi?\n",
        "2.   Apakah setiap region memiliki proporsi data banyak orang yang sama?\n",
        "3.   Mana yang lebih tinggi proporsi perokok atau non perokok?\n",
        "4.   Berapa peluang seseorang tersebut adalah perempuan diketahui dia adalah perokok?\n",
        "5.   Berapa peluang seseorang tersebut adalah laki-laki diketahui dia adalah perokok?\n",
        "6. Bagaimana bentuk distribusi peluang besar tagihan dari tiap-tiap region?\n",
        "\n",
        "**C.  Analisa Variabel Kontinu**\n",
        "1.   Mana yang lebih mungkin terjadi\n",
        "- Seseorang dengan BMI diatas 25 mendapatkan tagihan kesehatan diatas 16.7k, atau\n",
        "- Seseorang dengan BMI dibawah 25 mendapatkan tagihan kesehatan diatas 16.7k\n",
        "2.   Mana yang lebih mungkin terjadi\n",
        "- Seseorang perokok dengan BMI diatas 25 mendapatkan tagihan kesehatan diatas 16.7k, atau\n",
        "- Seseorang non perokok dengan BMI diatas 25 mendapatkan tagihan kesehatan diatas 16.7k\n",
        "\n",
        "**D.  Analisa Korelasi Variabel**\n",
        "- Keterkaitan antar kolom di data tagihan kesehatan\n",
        "\n",
        "**E.  Pengujian Hipotesis**\n",
        "1. Tagihan kesehatan perokok lebih tinggi daripada tagihan kesehatan non perokok\n",
        "2. Proporsi perokok laki laki lebih besar dari perempuan\n",
        "3. Variansi tagihan kesehatan perokok dan non perokok sama\n",
        "4. Tagihan kesehatan dengan BMI diatas 25 lebih tinggi daripada tagihan kesehatan dengan BMI dibawah 25\n",
        "5. Tagihan kesehatan laki-laki lebih besar dari perempuan"
      ],
      "metadata": {
        "id": "XwLBz5Qq0cnw"
      }
    },
    {
      "cell_type": "code",
      "execution_count": 3,
      "metadata": {
        "colab": {
          "base_uri": "https://localhost:8080/"
        },
        "id": "dcW3ex1Q0GTN",
        "outputId": "4f39fde4-5f74-4154-854b-5228a082bfda"
      },
      "outputs": [
        {
          "output_type": "stream",
          "name": "stdout",
          "text": [
            "Mounted at /content/drive\n"
          ]
        }
      ],
      "source": [
        "# konek google colab dengan google drive\n",
        "from google.colab import drive\n",
        "drive.mount('/content/drive')"
      ]
    },
    {
      "cell_type": "code",
      "source": [
        "# import library sesuai kebutuhan\n",
        "import pandas as pd\n",
        "import scipy.stats as stats\n",
        "import matplotlib.pyplot as plt\n",
        "import seaborn as sns\n",
        "from statsmodels.stats.proportion import proportions_ztest\n",
        "from scipy.stats import f\n",
        "\n",
        "# konek data tagihan kesehatan\n",
        "file_path = \"/content/drive/MyDrive/Probability/insurance.csv\"\n",
        "df = pd.read_csv(file_path)\n",
        "df"
      ],
      "metadata": {
        "colab": {
          "base_uri": "https://localhost:8080/",
          "height": 424
        },
        "id": "e2Bo-pI-ERUa",
        "outputId": "546a07f7-ef52-479b-dad9-6860ebd61bd1"
      },
      "execution_count": 4,
      "outputs": [
        {
          "output_type": "execute_result",
          "data": {
            "text/plain": [
              "      age     sex     bmi  children smoker     region      charges\n",
              "0      19  female  27.900         0    yes  southwest  16884.92400\n",
              "1      18    male  33.770         1     no  southeast   1725.55230\n",
              "2      28    male  33.000         3     no  southeast   4449.46200\n",
              "3      33    male  22.705         0     no  northwest  21984.47061\n",
              "4      32    male  28.880         0     no  northwest   3866.85520\n",
              "...   ...     ...     ...       ...    ...        ...          ...\n",
              "1333   50    male  30.970         3     no  northwest  10600.54830\n",
              "1334   18  female  31.920         0     no  northeast   2205.98080\n",
              "1335   18  female  36.850         0     no  southeast   1629.83350\n",
              "1336   21  female  25.800         0     no  southwest   2007.94500\n",
              "1337   61  female  29.070         0    yes  northwest  29141.36030\n",
              "\n",
              "[1338 rows x 7 columns]"
            ],
            "text/html": [
              "\n",
              "  <div id=\"df-69a65bf4-40e0-4c86-a3d1-52c35e0c7b23\">\n",
              "    <div class=\"colab-df-container\">\n",
              "      <div>\n",
              "<style scoped>\n",
              "    .dataframe tbody tr th:only-of-type {\n",
              "        vertical-align: middle;\n",
              "    }\n",
              "\n",
              "    .dataframe tbody tr th {\n",
              "        vertical-align: top;\n",
              "    }\n",
              "\n",
              "    .dataframe thead th {\n",
              "        text-align: right;\n",
              "    }\n",
              "</style>\n",
              "<table border=\"1\" class=\"dataframe\">\n",
              "  <thead>\n",
              "    <tr style=\"text-align: right;\">\n",
              "      <th></th>\n",
              "      <th>age</th>\n",
              "      <th>sex</th>\n",
              "      <th>bmi</th>\n",
              "      <th>children</th>\n",
              "      <th>smoker</th>\n",
              "      <th>region</th>\n",
              "      <th>charges</th>\n",
              "    </tr>\n",
              "  </thead>\n",
              "  <tbody>\n",
              "    <tr>\n",
              "      <th>0</th>\n",
              "      <td>19</td>\n",
              "      <td>female</td>\n",
              "      <td>27.900</td>\n",
              "      <td>0</td>\n",
              "      <td>yes</td>\n",
              "      <td>southwest</td>\n",
              "      <td>16884.92400</td>\n",
              "    </tr>\n",
              "    <tr>\n",
              "      <th>1</th>\n",
              "      <td>18</td>\n",
              "      <td>male</td>\n",
              "      <td>33.770</td>\n",
              "      <td>1</td>\n",
              "      <td>no</td>\n",
              "      <td>southeast</td>\n",
              "      <td>1725.55230</td>\n",
              "    </tr>\n",
              "    <tr>\n",
              "      <th>2</th>\n",
              "      <td>28</td>\n",
              "      <td>male</td>\n",
              "      <td>33.000</td>\n",
              "      <td>3</td>\n",
              "      <td>no</td>\n",
              "      <td>southeast</td>\n",
              "      <td>4449.46200</td>\n",
              "    </tr>\n",
              "    <tr>\n",
              "      <th>3</th>\n",
              "      <td>33</td>\n",
              "      <td>male</td>\n",
              "      <td>22.705</td>\n",
              "      <td>0</td>\n",
              "      <td>no</td>\n",
              "      <td>northwest</td>\n",
              "      <td>21984.47061</td>\n",
              "    </tr>\n",
              "    <tr>\n",
              "      <th>4</th>\n",
              "      <td>32</td>\n",
              "      <td>male</td>\n",
              "      <td>28.880</td>\n",
              "      <td>0</td>\n",
              "      <td>no</td>\n",
              "      <td>northwest</td>\n",
              "      <td>3866.85520</td>\n",
              "    </tr>\n",
              "    <tr>\n",
              "      <th>...</th>\n",
              "      <td>...</td>\n",
              "      <td>...</td>\n",
              "      <td>...</td>\n",
              "      <td>...</td>\n",
              "      <td>...</td>\n",
              "      <td>...</td>\n",
              "      <td>...</td>\n",
              "    </tr>\n",
              "    <tr>\n",
              "      <th>1333</th>\n",
              "      <td>50</td>\n",
              "      <td>male</td>\n",
              "      <td>30.970</td>\n",
              "      <td>3</td>\n",
              "      <td>no</td>\n",
              "      <td>northwest</td>\n",
              "      <td>10600.54830</td>\n",
              "    </tr>\n",
              "    <tr>\n",
              "      <th>1334</th>\n",
              "      <td>18</td>\n",
              "      <td>female</td>\n",
              "      <td>31.920</td>\n",
              "      <td>0</td>\n",
              "      <td>no</td>\n",
              "      <td>northeast</td>\n",
              "      <td>2205.98080</td>\n",
              "    </tr>\n",
              "    <tr>\n",
              "      <th>1335</th>\n",
              "      <td>18</td>\n",
              "      <td>female</td>\n",
              "      <td>36.850</td>\n",
              "      <td>0</td>\n",
              "      <td>no</td>\n",
              "      <td>southeast</td>\n",
              "      <td>1629.83350</td>\n",
              "    </tr>\n",
              "    <tr>\n",
              "      <th>1336</th>\n",
              "      <td>21</td>\n",
              "      <td>female</td>\n",
              "      <td>25.800</td>\n",
              "      <td>0</td>\n",
              "      <td>no</td>\n",
              "      <td>southwest</td>\n",
              "      <td>2007.94500</td>\n",
              "    </tr>\n",
              "    <tr>\n",
              "      <th>1337</th>\n",
              "      <td>61</td>\n",
              "      <td>female</td>\n",
              "      <td>29.070</td>\n",
              "      <td>0</td>\n",
              "      <td>yes</td>\n",
              "      <td>northwest</td>\n",
              "      <td>29141.36030</td>\n",
              "    </tr>\n",
              "  </tbody>\n",
              "</table>\n",
              "<p>1338 rows × 7 columns</p>\n",
              "</div>\n",
              "      <button class=\"colab-df-convert\" onclick=\"convertToInteractive('df-69a65bf4-40e0-4c86-a3d1-52c35e0c7b23')\"\n",
              "              title=\"Convert this dataframe to an interactive table.\"\n",
              "              style=\"display:none;\">\n",
              "        \n",
              "  <svg xmlns=\"http://www.w3.org/2000/svg\" height=\"24px\"viewBox=\"0 0 24 24\"\n",
              "       width=\"24px\">\n",
              "    <path d=\"M0 0h24v24H0V0z\" fill=\"none\"/>\n",
              "    <path d=\"M18.56 5.44l.94 2.06.94-2.06 2.06-.94-2.06-.94-.94-2.06-.94 2.06-2.06.94zm-11 1L8.5 8.5l.94-2.06 2.06-.94-2.06-.94L8.5 2.5l-.94 2.06-2.06.94zm10 10l.94 2.06.94-2.06 2.06-.94-2.06-.94-.94-2.06-.94 2.06-2.06.94z\"/><path d=\"M17.41 7.96l-1.37-1.37c-.4-.4-.92-.59-1.43-.59-.52 0-1.04.2-1.43.59L10.3 9.45l-7.72 7.72c-.78.78-.78 2.05 0 2.83L4 21.41c.39.39.9.59 1.41.59.51 0 1.02-.2 1.41-.59l7.78-7.78 2.81-2.81c.8-.78.8-2.07 0-2.86zM5.41 20L4 18.59l7.72-7.72 1.47 1.35L5.41 20z\"/>\n",
              "  </svg>\n",
              "      </button>\n",
              "      \n",
              "  <style>\n",
              "    .colab-df-container {\n",
              "      display:flex;\n",
              "      flex-wrap:wrap;\n",
              "      gap: 12px;\n",
              "    }\n",
              "\n",
              "    .colab-df-convert {\n",
              "      background-color: #E8F0FE;\n",
              "      border: none;\n",
              "      border-radius: 50%;\n",
              "      cursor: pointer;\n",
              "      display: none;\n",
              "      fill: #1967D2;\n",
              "      height: 32px;\n",
              "      padding: 0 0 0 0;\n",
              "      width: 32px;\n",
              "    }\n",
              "\n",
              "    .colab-df-convert:hover {\n",
              "      background-color: #E2EBFA;\n",
              "      box-shadow: 0px 1px 2px rgba(60, 64, 67, 0.3), 0px 1px 3px 1px rgba(60, 64, 67, 0.15);\n",
              "      fill: #174EA6;\n",
              "    }\n",
              "\n",
              "    [theme=dark] .colab-df-convert {\n",
              "      background-color: #3B4455;\n",
              "      fill: #D2E3FC;\n",
              "    }\n",
              "\n",
              "    [theme=dark] .colab-df-convert:hover {\n",
              "      background-color: #434B5C;\n",
              "      box-shadow: 0px 1px 3px 1px rgba(0, 0, 0, 0.15);\n",
              "      filter: drop-shadow(0px 1px 2px rgba(0, 0, 0, 0.3));\n",
              "      fill: #FFFFFF;\n",
              "    }\n",
              "  </style>\n",
              "\n",
              "      <script>\n",
              "        const buttonEl =\n",
              "          document.querySelector('#df-69a65bf4-40e0-4c86-a3d1-52c35e0c7b23 button.colab-df-convert');\n",
              "        buttonEl.style.display =\n",
              "          google.colab.kernel.accessAllowed ? 'block' : 'none';\n",
              "\n",
              "        async function convertToInteractive(key) {\n",
              "          const element = document.querySelector('#df-69a65bf4-40e0-4c86-a3d1-52c35e0c7b23');\n",
              "          const dataTable =\n",
              "            await google.colab.kernel.invokeFunction('convertToInteractive',\n",
              "                                                     [key], {});\n",
              "          if (!dataTable) return;\n",
              "\n",
              "          const docLinkHtml = 'Like what you see? Visit the ' +\n",
              "            '<a target=\"_blank\" href=https://colab.research.google.com/notebooks/data_table.ipynb>data table notebook</a>'\n",
              "            + ' to learn more about interactive tables.';\n",
              "          element.innerHTML = '';\n",
              "          dataTable['output_type'] = 'display_data';\n",
              "          await google.colab.output.renderOutput(dataTable, element);\n",
              "          const docLink = document.createElement('div');\n",
              "          docLink.innerHTML = docLinkHtml;\n",
              "          element.appendChild(docLink);\n",
              "        }\n",
              "      </script>\n",
              "    </div>\n",
              "  </div>\n",
              "  "
            ]
          },
          "metadata": {},
          "execution_count": 4
        }
      ]
    },
    {
      "cell_type": "code",
      "source": [
        "# cek tipe data\n",
        "df.info()"
      ],
      "metadata": {
        "colab": {
          "base_uri": "https://localhost:8080/"
        },
        "id": "Z-vA08DgJbsH",
        "outputId": "793715c4-2cdb-4aa2-98a4-62aa4d861fc2"
      },
      "execution_count": null,
      "outputs": [
        {
          "output_type": "stream",
          "name": "stdout",
          "text": [
            "<class 'pandas.core.frame.DataFrame'>\n",
            "RangeIndex: 1338 entries, 0 to 1337\n",
            "Data columns (total 7 columns):\n",
            " #   Column    Non-Null Count  Dtype  \n",
            "---  ------    --------------  -----  \n",
            " 0   age       1338 non-null   int64  \n",
            " 1   sex       1338 non-null   object \n",
            " 2   bmi       1338 non-null   float64\n",
            " 3   children  1338 non-null   int64  \n",
            " 4   smoker    1338 non-null   object \n",
            " 5   region    1338 non-null   object \n",
            " 6   charges   1338 non-null   float64\n",
            "dtypes: float64(2), int64(2), object(3)\n",
            "memory usage: 73.3+ KB\n"
          ]
        }
      ]
    },
    {
      "cell_type": "code",
      "source": [
        "# cek unik data untuk kolom non numerik\n",
        "print(df['sex'].unique())\n",
        "print(df['smoker'].unique())\n",
        "print(df['region'].unique())"
      ],
      "metadata": {
        "colab": {
          "base_uri": "https://localhost:8080/"
        },
        "id": "r-TeXmQkFFt2",
        "outputId": "fcf66c0f-d68e-4469-96a4-3605f65e1026"
      },
      "execution_count": null,
      "outputs": [
        {
          "output_type": "stream",
          "name": "stdout",
          "text": [
            "['female' 'male']\n",
            "['yes' 'no']\n",
            "['southwest' 'southeast' 'northwest' 'northeast']\n"
          ]
        }
      ]
    },
    {
      "cell_type": "code",
      "source": [
        "# cek distribusi data\n",
        "print(df['age'].describe())\n",
        "print(df['bmi'].describe())\n",
        "print(df['children'].describe())\n",
        "print(df['charges'].describe())"
      ],
      "metadata": {
        "colab": {
          "base_uri": "https://localhost:8080/"
        },
        "id": "U7WdwHumFlkq",
        "outputId": "8b147901-fa7f-4680-f740-e43324f1f6d8"
      },
      "execution_count": null,
      "outputs": [
        {
          "output_type": "stream",
          "name": "stdout",
          "text": [
            "count    1338.000000\n",
            "mean       39.207025\n",
            "std        14.049960\n",
            "min        18.000000\n",
            "25%        27.000000\n",
            "50%        39.000000\n",
            "75%        51.000000\n",
            "max        64.000000\n",
            "Name: age, dtype: float64\n",
            "count    1338.000000\n",
            "mean       30.663397\n",
            "std         6.098187\n",
            "min        15.960000\n",
            "25%        26.296250\n",
            "50%        30.400000\n",
            "75%        34.693750\n",
            "max        53.130000\n",
            "Name: bmi, dtype: float64\n",
            "count    1338.000000\n",
            "mean        1.094918\n",
            "std         1.205493\n",
            "min         0.000000\n",
            "25%         0.000000\n",
            "50%         1.000000\n",
            "75%         2.000000\n",
            "max         5.000000\n",
            "Name: children, dtype: float64\n",
            "count     1338.000000\n",
            "mean     13270.422265\n",
            "std      12110.011237\n",
            "min       1121.873900\n",
            "25%       4740.287150\n",
            "50%       9382.033000\n",
            "75%      16639.912515\n",
            "max      63770.428010\n",
            "Name: charges, dtype: float64\n"
          ]
        }
      ]
    },
    {
      "cell_type": "code",
      "source": [
        "# A. Analisa Descriptive Statistic\n",
        "# 1. Berapa rata rata umur pada data tersebut?\n",
        "\n",
        "# menghitung rata-rata umur\n",
        "rata_umur = df['age'].mean()\n",
        "\n",
        "# menampilkan hasil\n",
        "print(\"Rata-rata umur: \", rata_umur)"
      ],
      "metadata": {
        "colab": {
          "base_uri": "https://localhost:8080/"
        },
        "id": "5BNmGML5ITii",
        "outputId": "3fbd2288-31c8-47ec-d858-d8f5a37c7d8b"
      },
      "execution_count": null,
      "outputs": [
        {
          "output_type": "stream",
          "name": "stdout",
          "text": [
            "Rata-rata umur:  39.20702541106129\n"
          ]
        }
      ]
    },
    {
      "cell_type": "code",
      "source": [
        "# A. Analisa Descriptive Statistic\n",
        "# 2. Berapa rata rata nilai BMI dari yang merokok?\n",
        "\n",
        "# menghitung rata-rata BMI dari yang merokok\n",
        "rata_bmi_merokok = df.loc[df['smoker'] == 'yes', 'bmi'].mean()\n",
        "\n",
        "# menampilkan hasil\n",
        "print(\"Rata-rata nilai BMI dari yang merokok: \", rata_bmi_merokok)"
      ],
      "metadata": {
        "colab": {
          "base_uri": "https://localhost:8080/"
        },
        "id": "sHuMLPbdIerV",
        "outputId": "92ced8fd-2c7f-4087-f70a-6b0ad1265b96"
      },
      "execution_count": null,
      "outputs": [
        {
          "output_type": "stream",
          "name": "stdout",
          "text": [
            "Rata-rata nilai BMI dari yang merokok:  30.70844890510949\n"
          ]
        }
      ]
    },
    {
      "cell_type": "code",
      "source": [
        "# A. Analisa Descriptive Statistic\n",
        "# 3. Apakah variansi dari tagihan kesehatan perokok dan non perokok sama?\n",
        "\n",
        "# memisahkan data perokok dan non-perokok\n",
        "perokok = df.loc[df['smoker'] == 'yes', 'charges']\n",
        "non_perokok = df.loc[df['smoker'] == 'no', 'charges']\n",
        "\n",
        "# melakukan uji perbedaan varian\n",
        "stat, pvalue = stats.levene(perokok, non_perokok)\n",
        "\n",
        "# menampilkan hasil\n",
        "if pvalue < 0.05:\n",
        "  print(\"Variansi dari tagihan kesehatan perokok dan non-perokok berbeda\")\n",
        "else:\n",
        "  print(\"Variansi dari tagihan kesehatan perokok dan non-perokok sama\")"
      ],
      "metadata": {
        "colab": {
          "base_uri": "https://localhost:8080/"
        },
        "id": "wxcaYfgfJtLC",
        "outputId": "86be43f6-7806-4a14-f8ab-81389b32f8de"
      },
      "execution_count": null,
      "outputs": [
        {
          "output_type": "stream",
          "name": "stdout",
          "text": [
            "Variansi dari tagihan kesehatan perokok dan non-perokok berbeda\n"
          ]
        }
      ]
    },
    {
      "cell_type": "code",
      "source": [
        "# A. Analisa Descriptive Statistic\n",
        "# 4. Apakah rata rata umur perempuan dan laki-laki yang merokok sama?\n",
        "\n",
        "# menghitung rata-rata umur perempuan dan laki-laki yang merokok\n",
        "rata_perempuan = df.loc[(df['smoker'] == 'yes') & (df['sex'] == 'female'), 'age'].mean()\n",
        "rata_laki_laki = df.loc[(df['smoker'] == 'yes') & (df['sex'] == 'male'), 'age'].mean()\n",
        "\n",
        "# menampilkan hasil\n",
        "print(\"Rata-rata umur perempuan yang merokok: \", rata_perempuan)\n",
        "print(\"Rata-rata umur laki-laki yang merokok: \", rata_laki_laki)\n",
        "\n",
        "if rata_perempuan == rata_laki_laki:\n",
        "  print(\"Rata-rata umur perempuan dan laki-laki yang merokok sama\")\n",
        "else:\n",
        "  print(\"Rata-rata umur perempuan dan laki-laki yang merokok tidak sama\")"
      ],
      "metadata": {
        "colab": {
          "base_uri": "https://localhost:8080/"
        },
        "id": "2c1M1wIhKb5B",
        "outputId": "62b14bc0-93b4-4360-bce6-de309324d329"
      },
      "execution_count": null,
      "outputs": [
        {
          "output_type": "stream",
          "name": "stdout",
          "text": [
            "Rata-rata umur perempuan yang merokok:  38.608695652173914\n",
            "Rata-rata umur laki-laki yang merokok:  38.44654088050314\n",
            "Rata-rata umur perempuan dan laki-laki yang merokok tidak sama\n"
          ]
        }
      ]
    },
    {
      "cell_type": "code",
      "source": [
        "# A. Analisa Descriptive Statistic\n",
        "# 5. Mana yang lebih tinggi, rata rata tagihan kesehatan perokok atau non merokok?\n",
        "\n",
        "# menghitung rata-rata tagihan kesehatan perokok dan non-perokok\n",
        "rata_perokok = df.loc[df['smoker'] == 'yes', 'charges'].mean()\n",
        "rata_nonperokok = df.loc[df['smoker'] == 'no', 'charges'].mean()\n",
        "\n",
        "# menampilkan hasil\n",
        "print(\"Rata-rata tagihan kesehatan perokok: \", rata_perokok)\n",
        "print(\"Rata-rata tagihan kesehatan non-perokok: \", rata_nonperokok)\n",
        "\n",
        "if rata_perokok > rata_nonperokok:\n",
        "  print(\"Rata-rata tagihan kesehatan perokok lebih tinggi\")\n",
        "elif rata_perokok < rata_nonperokok:\n",
        "  print(\"Rata-rata tagihan kesehatan non-perokok lebih tinggi\")\n",
        "else:\n",
        "  print(\"Rata-rata tagihan kesehatan perokok dan non-perokok sama\")"
      ],
      "metadata": {
        "colab": {
          "base_uri": "https://localhost:8080/"
        },
        "id": "7W7_JsNnJ0kD",
        "outputId": "c160f697-15b9-4838-cd78-d69ef324a40c"
      },
      "execution_count": null,
      "outputs": [
        {
          "output_type": "stream",
          "name": "stdout",
          "text": [
            "Rata-rata tagihan kesehatan perokok:  32050.23183153284\n",
            "Rata-rata tagihan kesehatan non-perokok:  8434.268297856204\n",
            "Rata-rata tagihan kesehatan perokok lebih tinggi\n"
          ]
        }
      ]
    },
    {
      "cell_type": "code",
      "source": [
        "# A. Analisa Descriptive Statistic\n",
        "# 6. Mana yang lebih tinggi, rata rata tagihan kesehatan perokok yang BMI nya diatas 25 atau non perokok yang BMI nya diatas 25 (overweight)\n",
        "\n",
        "# menghitung rata-rata tagihan kesehatan perokok yang BMI-nya di atas 25\n",
        "rata_perokok = df.loc[(df['smoker'] == 'yes') & (df['bmi'] > 25), 'charges'].mean()\n",
        "\n",
        "# menghitung rata-rata tagihan kesehatan non-perokok yang BMI-nya di atas 25\n",
        "rata_non_perokok = df.loc[(df['smoker'] == 'no') & (df['bmi'] > 25), 'charges'].mean()\n",
        "\n",
        "# menampilkan hasil\n",
        "print(\"Rata-rata tagihan kesehatan perokok yang BMI-nya di atas 25: \", rata_perokok)\n",
        "print(\"Rata-rata tagihan kesehatan non-perokok yang BMI-nya di atas 25: \", rata_non_perokok)\n",
        "\n",
        "if rata_perokok > rata_non_perokok:\n",
        "  print(\"Rata-rata tagihan kesehatan perokok yang BMI-nya di atas 25 lebih tinggi\")\n",
        "else:\n",
        "  print(\"Rata-rata tagihan kesehatan non-perokok yang BMI-nya di atas 25 lebih tinggi\")"
      ],
      "metadata": {
        "colab": {
          "base_uri": "https://localhost:8080/"
        },
        "id": "vu_jOlNlKszM",
        "outputId": "4015f3da-64f6-4f46-819d-a0817f164830"
      },
      "execution_count": null,
      "outputs": [
        {
          "output_type": "stream",
          "name": "stdout",
          "text": [
            "Rata-rata tagihan kesehatan perokok yang BMI-nya di atas 25:  35116.90965694064\n",
            "Rata-rata tagihan kesehatan non-perokok yang BMI-nya di atas 25:  8629.589609712157\n",
            "Rata-rata tagihan kesehatan perokok yang BMI-nya di atas 25 lebih tinggi\n"
          ]
        }
      ]
    },
    {
      "cell_type": "code",
      "source": [
        "# A. Analisa Descriptive Statistic\n",
        "# 7. BMI mana yang lebih tinggi, seseorang perokok atau non perokok?\n",
        "\n",
        "# menghitung rata-rata BMI perokok\n",
        "rata_perokok = df.loc[df['smoker'] == 'yes', 'bmi'].mean()\n",
        "\n",
        "# menghitung rata-rata BMI non-perokok\n",
        "rata_non_perokok = df.loc[df['smoker'] == 'no', 'bmi'].mean()\n",
        "\n",
        "# menampilkan hasil\n",
        "print(\"Rata-rata BMI perokok: \", rata_perokok)\n",
        "print(\"Rata-rata BMI non-perokok: \", rata_non_perokok)\n",
        "\n",
        "if rata_perokok > rata_non_perokok:\n",
        "  print(\"Rata-rata BMI perokok lebih tinggi\")\n",
        "else:\n",
        "  print(\"Rata-rata BMI non-perokok lebih tinggi\")"
      ],
      "metadata": {
        "colab": {
          "base_uri": "https://localhost:8080/"
        },
        "id": "shPW2YznLF2v",
        "outputId": "062351fb-c37b-4878-d8a7-c9a95c11604b"
      },
      "execution_count": null,
      "outputs": [
        {
          "output_type": "stream",
          "name": "stdout",
          "text": [
            "Rata-rata BMI perokok:  30.70844890510949\n",
            "Rata-rata BMI non-perokok:  30.651795112781954\n",
            "Rata-rata BMI perokok lebih tinggi\n"
          ]
        }
      ]
    },
    {
      "cell_type": "code",
      "source": [
        "# Analisa Variabel Diskrit\n",
        "# 1. Gender mana yang memiliki tagihan paling tinggi?\n",
        "\n",
        "# menghitung rata-rata tagihan per gender\n",
        "rata_laki = df.loc[df['sex'] == 'male', 'charges'].mean()\n",
        "rata_perempuan = df.loc[df['sex'] == 'female', 'charges'].mean()\n",
        "\n",
        "# menampilkan hasil\n",
        "print(\"Rata-rata tagihan laki-laki: \", rata_laki)\n",
        "print(\"Rata-rata tagihan perempuan: \", rata_perempuan)\n",
        "\n",
        "# membuat plot\n",
        "labels = ['Laki-laki', 'Perempuan']\n",
        "rata_rata = [rata_laki, rata_perempuan]\n",
        "colors = ['blue', 'pink']\n",
        "plt.bar(labels, rata_rata, color=colors)\n",
        "\n",
        "# memberi label pada plot\n",
        "plt.title('Perbandingan Rata-rata Tagihan antara Laki-laki dan Perempuan')\n",
        "plt.xlabel('Gender')\n",
        "plt.ylabel('Rata-rata Tagihan')\n",
        "\n",
        "# menampilkan plot\n",
        "plt.show()"
      ],
      "metadata": {
        "colab": {
          "base_uri": "https://localhost:8080/",
          "height": 507
        },
        "id": "eKgRkhV1LZC_",
        "outputId": "ab655f06-9ce8-430e-9f6e-ddc5be47bc64"
      },
      "execution_count": null,
      "outputs": [
        {
          "output_type": "stream",
          "name": "stdout",
          "text": [
            "Rata-rata tagihan laki-laki:  13956.751177721893\n",
            "Rata-rata tagihan perempuan:  12569.578843835347\n"
          ]
        },
        {
          "output_type": "display_data",
          "data": {
            "text/plain": [
              "<Figure size 640x480 with 1 Axes>"
            ],
            "image/png": "[encoded data removed]"
          },
          "metadata": {}
        }
      ]
    },
    {
      "cell_type": "code",
      "source": [
        "# Analisa Variabel Diskrit\n",
        "# 2. Apakah setiap region memiliki proporsi data banyak orang yang sama?\n",
        "\n",
        "# menghitung proporsi data pada setiap region\n",
        "region_counts = df['region'].value_counts(normalize=True)\n",
        "\n",
        "# membuat chart pie\n",
        "plt.pie(region_counts, labels=region_counts.index, autopct='%1.1f%%')\n",
        "\n",
        "# memberi judul pada chart pie\n",
        "plt.title('Proporsi Data pada Setiap Region')\n",
        "\n",
        "# menampilkan chart pie\n",
        "plt.show()"
      ],
      "metadata": {
        "colab": {
          "base_uri": "https://localhost:8080/",
          "height": 428
        },
        "id": "txHp92MKNlaS",
        "outputId": "157bb954-bb7a-4dc9-e937-1e81f3df2734"
      },
      "execution_count": null,
      "outputs": [
        {
          "output_type": "display_data",
          "data": {
            "text/plain": [
              "<Figure size 640x480 with 1 Axes>"
            ],
            "image/png": "[encoded data removed]"
          },
          "metadata": {}
        }
      ]
    },
    {
      "cell_type": "code",
      "source": [
        "# Analisa Variabel Diskrit\n",
        "# 3. Mana yang lebih tinggi proporsi perokok atau non perokok?\n",
        "\n",
        "# menghitung jumlah perokok dan non-perokok\n",
        "smoker_counts = df['smoker'].value_counts()\n",
        "\n",
        "# menghitung proporsi perokok dan non-perokok\n",
        "smoker_props = smoker_counts / len(df)\n",
        "\n",
        "# membuat bar plot\n",
        "plt.bar(['Perokok', 'Non-Perokok'], smoker_props, color=['red', 'blue'])\n",
        "\n",
        "# memberi judul pada plot\n",
        "plt.title('Proporsi Perokok dan Non-Perokok')\n",
        "\n",
        "# menampilkan plot\n",
        "plt.show()"
      ],
      "metadata": {
        "colab": {
          "base_uri": "https://localhost:8080/",
          "height": 452
        },
        "id": "rTtdxleDOO7F",
        "outputId": "49a5557e-511e-4d84-ca89-5ca1c72584e0"
      },
      "execution_count": null,
      "outputs": [
        {
          "output_type": "display_data",
          "data": {
            "text/plain": [
              "<Figure size 640x480 with 1 Axes>"
            ],
            "image/png": "[encoded data removed]"
          },
          "metadata": {}
        }
      ]
    },
    {
      "cell_type": "code",
      "source": [
        "# Analisa Variabel Diskrit\n",
        "# 4. Berapa peluang seseorang tersebut adalah perempuan diketahui dia adalah perokok?\n",
        "\n",
        "# menghitung jumlah perokok dan non-perokok\n",
        "smoker_counts = df['smoker'].value_counts()\n",
        "\n",
        "# menghitung probabilitas perokok dan non-perokok\n",
        "prob_smoker = smoker_counts['yes'] / len(df)\n",
        "prob_non_smoker = smoker_counts['no'] / len(df)\n",
        "\n",
        "# menghitung probabilitas Female and Smoker\n",
        "prob_female_smoker = len(df[(df['sex'] == 'female') & (df['smoker'] == 'yes')]) / len(df)\n",
        "\n",
        "# menghitung probabilitas Female|Smoker\n",
        "prob_female_given_smoker = prob_female_smoker / prob_smoker\n",
        "\n",
        "# menampilkan hasil\n",
        "print('Peluang seseorang adalah perempuan diketahui dia adalah perokok:', prob_female_given_smoker)"
      ],
      "metadata": {
        "colab": {
          "base_uri": "https://localhost:8080/"
        },
        "id": "ASTeT9aEOq5p",
        "outputId": "a4826887-81db-444d-db1e-a40ddb7b4efc"
      },
      "execution_count": null,
      "outputs": [
        {
          "output_type": "stream",
          "name": "stdout",
          "text": [
            "Peluang seseorang adalah perempuan diketahui dia adalah perokok: 0.4197080291970803\n"
          ]
        }
      ]
    },
    {
      "cell_type": "code",
      "source": [
        "# Analisa Variabel Diskrit\n",
        "# 5. Berapa peluang seseorang tersebut adalah laki-laki diketahui dia adalah perokok?\n",
        "\n",
        "# menghitung jumlah perokok dan non-perokok\n",
        "smoker_counts = df['smoker'].value_counts()\n",
        "\n",
        "# menghitung probabilitas perokok dan non-perokok\n",
        "prob_smoker = smoker_counts['yes'] / len(df)\n",
        "prob_non_smoker = smoker_counts['no'] / len(df)\n",
        "\n",
        "# menghitung probabilitas Female and Smoker\n",
        "prob_male_smoker = len(df[(df['sex'] == 'male') & (df['smoker'] == 'yes')]) / len(df)\n",
        "\n",
        "# menghitung probabilitas Female|Smoker\n",
        "prob_male_given_smoker = prob_male_smoker / prob_smoker\n",
        "\n",
        "# menampilkan hasil\n",
        "print('Peluang seseorang adalah laki-laki diketahui dia adalah perokok:', prob_male_given_smoker)"
      ],
      "metadata": {
        "colab": {
          "base_uri": "https://localhost:8080/"
        },
        "id": "kDdt6a2oQAXN",
        "outputId": "7a7f7daa-32d3-4c20-bfe2-fc2ec0ff15f2"
      },
      "execution_count": null,
      "outputs": [
        {
          "output_type": "stream",
          "name": "stdout",
          "text": [
            "Peluang seseorang adalah laki-laki diketahui dia adalah perokok: 0.5802919708029197\n"
          ]
        }
      ]
    },
    {
      "cell_type": "code",
      "source": [
        "# Analisa Variabel Diskrit\n",
        "# 6. Bagaimana bentuk distribusi peluang besar tagihan dari tiap-tiap region?\n",
        "\n",
        "# membuat plot\n",
        "df.groupby('region')['charges'].plot(kind='hist', alpha=0.5, legend=True)\n",
        "\n",
        "# memberi label pada plot\n",
        "plt.title('Distribusi Peluang Tagihan di Tiap-tiap Region')\n",
        "plt.xlabel('Tagihan')\n",
        "plt.ylabel('Frekuensi')\n",
        "\n",
        "# menampilkan plot\n",
        "plt.show()"
      ],
      "metadata": {
        "colab": {
          "base_uri": "https://localhost:8080/",
          "height": 472
        },
        "id": "5BvXu7akMmT_",
        "outputId": "b5b4fcdb-a351-4c4b-b1fa-252fe6aa58fd"
      },
      "execution_count": null,
      "outputs": [
        {
          "output_type": "display_data",
          "data": {
            "text/plain": [
              "<Figure size 640x480 with 1 Axes>"
            ],
            "image/png": "[encoded data removed]"
          },
          "metadata": {}
        }
      ]
    },
    {
      "cell_type": "code",
      "source": [
        "# Analisa Variabel Kontinu\n",
        "\"\"\"\n",
        "Mana yang lebih mungkin terjadi\n",
        "- Seseorang dengan BMI diatas 25 mendapatkan tagihan kesehatan diatas 16.7k, atau\n",
        "- Seseorang dengan BMI dibawah 25 mendapatkan tagihan kesehatan diatas 16.7k\n",
        "\"\"\"\n",
        "\n",
        "# hitung jumlah orang dengan BMI di atas atau di bawah 25 yang mendapatkan tagihan kesehatan di atas 16.7k\n",
        "overweight_highcharges = df[(df['bmi'] > 25) & (df['charges'] > 16700)].shape[0]\n",
        "normalweight_highcharges = df[(df['bmi'] <= 25) & (df['charges'] > 16700)].shape[0]\n",
        "\n",
        "# hitung proporsi\n",
        "total_highcharges = df[df['charges'] > 16700].shape[0]\n",
        "prop_overweight_highcharges = overweight_highcharges / total_highcharges\n",
        "prop_normalweight_highcharges = normalweight_highcharges / total_highcharges\n",
        "\n",
        "# tampilkan hasil\n",
        "print('Proporsi orang dengan BMI di atas 25 yang mendapatkan tagihan kesehatan di atas 16.7k:', round(prop_overweight_highcharges * 100, 2), '%')\n",
        "print('Proporsi orang dengan BMI di bawah 25 yang mendapatkan tagihan kesehatan di atas 16.7k:', round(prop_normalweight_highcharges * 100, 2), '%')\n",
        "\n",
        "# vsiualisasi dalam pie chart\n",
        "labels = ['BMI > 25', 'BMI < 25']\n",
        "sizes = [prop_overweight_highcharges, prop_normalweight_highcharges]\n",
        "colors = ['#ff9999','#66b3ff']\n",
        "explode = (0.1, 0) \n",
        "\n",
        "fig1, ax1 = plt.subplots()\n",
        "ax1.pie(sizes, explode=explode, labels=labels, colors=colors, autopct='%1.1f%%', startangle=90)\n",
        "\n",
        "ax1.axis('equal')  \n",
        "plt.tight_layout()\n",
        "plt.title('Peluang Tagihan Kesehatan > 16.7K untuk BMI > atau < 25')\n",
        "plt.show()"
      ],
      "metadata": {
        "colab": {
          "base_uri": "https://localhost:8080/",
          "height": 544
        },
        "id": "tqk3P79jR5Qd",
        "outputId": "180cb1a9-6509-486e-b37e-848163d3fb08"
      },
      "execution_count": null,
      "outputs": [
        {
          "output_type": "stream",
          "name": "stdout",
          "text": [
            "Proporsi orang dengan BMI di atas 25 yang mendapatkan tagihan kesehatan di atas 16.7k: 84.73 %\n",
            "Proporsi orang dengan BMI di bawah 25 yang mendapatkan tagihan kesehatan di atas 16.7k: 15.27 %\n"
          ]
        },
        {
          "output_type": "display_data",
          "data": {
            "text/plain": [
              "<Figure size 640x480 with 1 Axes>"
            ],
            "image/png": "[encoded data removed]"
          },
          "metadata": {}
        }
      ]
    },
    {
      "cell_type": "code",
      "source": [
        "# Analisa Variabel Kontinu\n",
        "\"\"\"\n",
        "Mana yang lebih mungkin terjadi\n",
        "Seseorang perokok dengan BMI diatas 25 mendapatkan tagihan kesehatan diatas 16.7k, atau\n",
        "Seseorang non perokok dengan BMI diatas 25 mendapatkan tagihan kesehatan diatas 16.7k\n",
        "\"\"\"\n",
        "\n",
        "# hitung perokok atau non perokok dengan BMI di atas 25 yang mendapatkan tagihan kesehatan di atas 16.7k\n",
        "proporsi_perokok = df[(df['smoker'] == 'yes') & (df['bmi'] > 25) & (df['charges'] > 16700)].shape[0]\n",
        "proporsi_non_perokok = df[(df['smoker'] == 'no') & (df['bmi'] > 25) & (df['charges'] > 16700)].shape[0]\n",
        "\n",
        "# hitung proporsi\n",
        "total_highcharges = df[df['charges'] > 16700].shape[0]\n",
        "prop_proporsi_perokok = proporsi_perokok / total_highcharges\n",
        "prop_proporsi_non_perokok = proporsi_non_perokok / total_highcharges\n",
        "\n",
        "# tampilkan hasil\n",
        "print('Proporsi perokok dengan BMI di atas 25 yang mendapatkan tagihan kesehatan di atas 16.7k:', round(prop_proporsi_perokok * 100, 2), '%')\n",
        "print('Proporsi non perokok dengan BMI di atas 25 yang mendapatkan tagihan kesehatan di atas 16.7k:', round(prop_proporsi_non_perokok * 100, 2), '%')\n",
        "\n",
        "# vsiualisasi dalam pie chart\n",
        "labels = ['Perokok', 'Non Perokok']\n",
        "sizes = [prop_proporsi_perokok, prop_proporsi_non_perokok]\n",
        "colors = ['#ff9999','#66b3ff']\n",
        "explode = (0.1, 0) \n",
        "\n",
        "fig1, ax1 = plt.subplots()\n",
        "ax1.pie(sizes, explode=explode, labels=labels, colors=colors, autopct='%1.1f%%', startangle=90)\n",
        "\n",
        "ax1.axis('equal')  \n",
        "plt.tight_layout()\n",
        "plt.title('Peluang Tagihan Kesehatan > 16.7K untuk Perokok atau Non Perokok dengan BMI > 25')\n",
        "plt.show()\n"
      ],
      "metadata": {
        "colab": {
          "base_uri": "https://localhost:8080/",
          "height": 544
        },
        "id": "qCpujf5KjqhF",
        "outputId": "f7d003d5-8d8d-4e5d-9e45-e88eaa80ffd3"
      },
      "execution_count": null,
      "outputs": [
        {
          "output_type": "stream",
          "name": "stdout",
          "text": [
            "Proporsi perokok dengan BMI di atas 25 yang mendapatkan tagihan kesehatan di atas 16.7k: 64.37 %\n",
            "Proporsi non perokok dengan BMI di atas 25 yang mendapatkan tagihan kesehatan di atas 16.7k: 20.36 %\n"
          ]
        },
        {
          "output_type": "display_data",
          "data": {
            "text/plain": [
              "<Figure size 640x480 with 1 Axes>"
            ],
            "image/png": "[encoded data removed]"
          },
          "metadata": {}
        }
      ]
    },
    {
      "cell_type": "code",
      "source": [
        "# Analisa Korelasi Variabel\n",
        "\n",
        "# menghitung korelasi antar kolom\n",
        "corr = df.corr()\n",
        "\n",
        "# menampilkan heatmap\n",
        "sns.heatmap(corr, annot=True, cmap='coolwarm')\n",
        "plt.show()"
      ],
      "metadata": {
        "colab": {
          "base_uri": "https://localhost:8080/",
          "height": 490
        },
        "id": "OIV_qaVll6Cc",
        "outputId": "02d445ca-5d4d-4807-f937-af0cbb3bb730"
      },
      "execution_count": null,
      "outputs": [
        {
          "output_type": "stream",
          "name": "stderr",
          "text": [
            "<ipython-input-135-633a9f4c3e90>:4: FutureWarning: The default value of numeric_only in DataFrame.corr is deprecated. In a future version, it will default to False. Select only valid columns or specify the value of numeric_only to silence this warning.\n",
            "  corr = df.corr()\n"
          ]
        },
        {
          "output_type": "display_data",
          "data": {
            "text/plain": [
              "<Figure size 640x480 with 2 Axes>"
            ],
            "image/png": "[encoded data removed]"
          },
          "metadata": {}
        }
      ]
    },
    {
      "cell_type": "code",
      "source": [
        "# Pengujian Hipotesis\n",
        "# 1. Tagihan kesehatan perokok lebih tinggi daripada tagihan kesehatan non perokok\n",
        "\n",
        "# Mengambil data tagihan kesehatan perokok dan non perokok\n",
        "charges_perokok = df[df['smoker'] == 'yes']['charges']\n",
        "charges_non_perokok = df[df['smoker'] == 'no']['charges']\n",
        "\n",
        "# Melakukan uji t-test independent\n",
        "t, p_value = stats.ttest_ind(charges_perokok, charges_non_perokok, equal_var=False)\n",
        "\n",
        "# tentukan alpha\n",
        "alpha = 0.05\n",
        "\n",
        "# Menampilkan hasil uji\n",
        "print('P-Value:', p_value)\n",
        "if p_value < alpha:\n",
        "    print('Kesimpulan: H0 ditolak, tagihan kesehatan perokok lebih tinggi daripada non perokok')\n",
        "else:\n",
        "    print('Kesimpulan: H0 diterima, tidak cukup bukti untuk menyatakan tagihan kesehatan perokok lebih tinggi daripada non perokok')"
      ],
      "metadata": {
        "colab": {
          "base_uri": "https://localhost:8080/"
        },
        "id": "Q2ZdW2a7mxNp",
        "outputId": "7618839b-b7b1-4082-9477-f24e21bfe5d0"
      },
      "execution_count": null,
      "outputs": [
        {
          "output_type": "stream",
          "name": "stdout",
          "text": [
            "P-Value: 5.88946444671698e-103\n",
            "Kesimpulan: H0 ditolak, tagihan kesehatan perokok lebih tinggi daripada non perokok\n"
          ]
        }
      ]
    },
    {
      "cell_type": "code",
      "source": [
        "# Pengujian Hipotesis\n",
        "# 2. Proporsi perokok laki laki lebih besar dari perempuan\n",
        "\n",
        "# hitung jumlah perokok laki-laki dan perempuan\n",
        "male_smokers = len(df[(df.sex == \"male\") & (df.smoker == \"yes\")])\n",
        "female_smokers = len(df[(df.sex == \"female\") & (df.smoker == \"yes\")])\n",
        "\n",
        "# hitung jumlah populasi laki-laki dan perempuan\n",
        "total_males = len(df[df.sex == \"male\"])\n",
        "total_females = len(df[df.sex == \"female\"])\n",
        "\n",
        "# proporsi perokok laki-laki\n",
        "p1 = male_smokers/ total_males\n",
        "# proporsi perokok perempuan\n",
        "p2 = female_smokers / total_females\n",
        "\n",
        "# hipotesis nol: proporsi perokok laki-laki sama dengan proporsi perokok perempuan\n",
        "# hipotesis alternatif: proporsi perokok laki-laki lebih besar daripada proporsi perokok perempuan\n",
        "alpha = 0.05\n",
        "\n",
        "# hitung z-score dan p-value\n",
        "count = np.array([male_smokers, female_smokers])\n",
        "nobs = np.array([total_males, total_females])\n",
        "z_score, p_value = proportions_ztest(count, nobs, alternative='larger')\n",
        "\n",
        "# Menampilkan hasil uji\n",
        "print('P-Value:', p_value)\n",
        "if p_value < alpha:\n",
        "    print(\"Kesimpulan: H0 ditolak, proporsi perokok laki-laki lebih besar daripada proporsi perokok perempuan.\")\n",
        "else:\n",
        "    print(\"Kesimpulan: H0 diterima, proporsi perokok laki-laki sama dengan proporsi perokok perempuan.\")"
      ],
      "metadata": {
        "colab": {
          "base_uri": "https://localhost:8080/"
        },
        "id": "jSnwu9t7rK9g",
        "outputId": "e6a3ead5-7dd8-49b8-b670-d1d8e383a4bb"
      },
      "execution_count": null,
      "outputs": [
        {
          "output_type": "stream",
          "name": "stdout",
          "text": [
            "P-Value: 0.002662057082160266\n",
            "Kesimpulan: H0 ditolak, proporsi perokok laki-laki lebih besar daripada proporsi perokok perempuan.\n"
          ]
        }
      ]
    },
    {
      "cell_type": "code",
      "source": [
        "# Pengujian Hipotesis\n",
        "# 3. Variansi tagihan kesehatan perokok dan non perokok sama\n",
        "\n",
        "# memisahkan data tagihan kesehatan perokok dan non-perokok\n",
        "perokok = df[df['smoker'] == 'yes']['charges']\n",
        "non_perokok = df[df['smoker'] == 'no']['charges']\n",
        "\n",
        "# uji hipotesis menggunakan tes F untuk uji perbedaan variansi\n",
        "alpha = 0.05\n",
        "\n",
        "var_perokok = np.var(perokok, ddof=1)\n",
        "var_non_perokok = np.var(non_perokok, ddof=1)\n",
        "\n",
        "# hitung F ratio\n",
        "f_test = var_perokok / var_non_perokok\n",
        "\n",
        "df1 = len(perokok) - 1\n",
        "df2 = len(non_perokok) - 1\n",
        "\n",
        "krit_f = f.ppf(1-alpha, df1, df2)\n",
        "\n",
        "# Menampilkan hasil uji\n",
        "print('p-value:', p_value)\n",
        "if f_test > krit_f:\n",
        "    print(\"Kesimpulan: H0 ditolak, variansi tagihan kesehatan perokok sama dengan variansi tagihan kesehatan non-perokok.\")\n",
        "else:\n",
        "    print(\"Kesimpulan: H0 diterima, variansi tagihan kesehatan perokok tidak sama dengan variansi tagihan kesehatan non-perokok.\")\n"
      ],
      "metadata": {
        "colab": {
          "base_uri": "https://localhost:8080/"
        },
        "id": "F_uH7SMb2Zh4",
        "outputId": "df902583-eb17-43b0-ab11-a3815f08d59c"
      },
      "execution_count": null,
      "outputs": [
        {
          "output_type": "stream",
          "name": "stdout",
          "text": [
            "p-value: 1.1102230246251565e-16\n",
            "Kesimpulan: H0 ditolak, variansi tagihan kesehatan perokok sama dengan variansi tagihan kesehatan non-perokok.\n"
          ]
        }
      ]
    },
    {
      "cell_type": "code",
      "source": [
        "# Pengujian Hipotesis\n",
        "# 4. Tagihan kesehatan dengan BMI diatas 25 lebih tinggi daripada tagihan kesehatan dengan BMI dibawah 25\n",
        "\n",
        "# Mengambil data tagihan kesehatan dengan BMI diatas 25 dan dibawah 25\n",
        "charges_bmi_above25 = df[df['bmi']>25]['charges']\n",
        "charges_bmi_below25 = df[df['bmi']<=25]['charges']\n",
        "\n",
        "# Melakukan uji t-test independent\n",
        "t, p_value = stats.ttest_ind(charges_bmi_above25, charges_bmi_below25, equal_var=False)\n",
        "\n",
        "# Menampilkan hasil uji\n",
        "print('P-Value:', p_value)\n",
        "if p_value < 0.05:\n",
        "    print('Kesimpulan: H0 ditolak, tagihan kesehatan dengan BMI diatas 25 lebih tinggi daripada dibawah 25')\n",
        "else:\n",
        "    print('Kesimpulan: H0 diterima, tidak cukup bukti untuk menyatakan tagihan kesehatan dengan BMI diatas 25 lebih tinggi daripada dibawah 25')"
      ],
      "metadata": {
        "colab": {
          "base_uri": "https://localhost:8080/"
        },
        "id": "eRRGlonEpZhz",
        "outputId": "8d5fb140-06d7-46e4-a7e8-8948e7af5fcd"
      },
      "execution_count": 5,
      "outputs": [
        {
          "output_type": "stream",
          "name": "stdout",
          "text": [
            "P-Value: 4.397170873770558e-09\n",
            "Kesimpulan: H0 ditolak, tagihan kesehatan dengan BMI diatas 25 lebih tinggi daripada dibawah 25\n"
          ]
        }
      ]
    },
    {
      "cell_type": "code",
      "source": [
        "# Pengujian Hipotesis\n",
        "# 5. Tagihan kesehatan laki-laki lebih besar dari perempuan\n",
        "\n",
        "# Mengambil data tagihan kesehatan dengan gender male dan female\n",
        "male_charges = df[df.sex == 'male'].charges\n",
        "female_charges = df[df.sex == 'female'].charges\n",
        "\n",
        "# Melakukan uji t-test independent\n",
        "t_stat, p_val = stats.ttest_ind(male_charges, female_charges, equal_var=False)\n",
        "\n",
        "# Menampilkan hasil uji\n",
        "print('P-Value:', p_val)\n",
        "if p_val < 0.05:\n",
        "    print(\"H0 ditolak, Tagihan kesehatan laki-laki lebih besar dari perempuan\")\n",
        "else:\n",
        "    print(\"H0 diterima, Tagihan kesehatan laki-laki sama dengan perempuan\")"
      ],
      "metadata": {
        "colab": {
          "base_uri": "https://localhost:8080/"
        },
        "id": "UXRep31tqeCz",
        "outputId": "c9650037-dbcc-4903-ec2e-0ff2c9443351"
      },
      "execution_count": 8,
      "outputs": [
        {
          "output_type": "stream",
          "name": "stdout",
          "text": [
            "P-Value: 0.03584101495601664\n",
            "H0 ditolak, Tagihan kesehatan laki-laki lebih besar dari perempuan\n"
          ]
        }
      ]
    }
  ]
}